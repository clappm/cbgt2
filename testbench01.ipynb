{
 "cells": [
  {
   "cell_type": "markdown",
   "metadata": {},
   "source": [
    "### turn on autoreloading"
   ]
  },
  {
   "cell_type": "code",
   "execution_count": 1,
   "metadata": {},
   "outputs": [],
   "source": [
    "%load_ext autoreload\n",
    "%autoreload 2"
   ]
  },
  {
   "cell_type": "markdown",
   "metadata": {},
   "source": [
    "### install ray library\n",
    "uncomment this to run it once on your machine, then recomment it"
   ]
  },
  {
   "cell_type": "code",
   "execution_count": 2,
   "metadata": {},
   "outputs": [],
   "source": [
    "#!pip install -U \"ray[default]\""
   ]
  },
  {
   "cell_type": "markdown",
   "metadata": {},
   "source": [
    "### start ray server\n",
    "\n",
    "you only need to run this once per jupyter session."
   ]
  },
  {
   "cell_type": "code",
   "execution_count": 3,
   "metadata": {},
   "outputs": [
    {
     "name": "stdout",
     "output_type": "stream",
     "text": [
      "\u001b[38;5;153mLocal node IP\u001b[39m: \u001b[1m10.162.14.77\u001b[22m\n",
      "2021-06-21 12:05:01,700\tINFO services.py:1272 -- View the Ray dashboard at \u001b[1m\u001b[32mhttp://127.0.0.1:8265\u001b[39m\u001b[22m\n",
      "\n",
      "\u001b[38;5;77m--------------------\u001b[39m\n",
      "\u001b[38;5;77mRay runtime started.\u001b[39m\n",
      "\u001b[38;5;77m--------------------\u001b[39m\n",
      "\n",
      "\u001b[38;5;75mNext steps\u001b[39m\n",
      "  To connect to this Ray runtime from another node, run\n",
      "  \u001b[1m  ray start --address='10.162.14.77:6379' --redis-password='cbgt2'\u001b[22m\n",
      "  \n",
      "  Alternatively, use the following Python code:\n",
      "    \u001b[38;5;204mimport\u001b[39m\u001b[26m ray\n",
      "    ray\u001b[38;5;204m.\u001b[39m\u001b[26minit(address\u001b[38;5;204m=\u001b[39m\u001b[26m\u001b[38;5;222m'auto'\u001b[39m\u001b[26m, _redis_password\u001b[38;5;204m=\u001b[39m\u001b[26m\u001b[38;5;222m'cbgt2'\u001b[39m\u001b[26m)\n",
      "  \n",
      "  \u001b[4mIf connection fails, check your firewall settings and network configuration.\u001b[24m\n",
      "  \n",
      "  To terminate the Ray runtime, run\n",
      "  \u001b[1m  ray stop\u001b[22m\n",
      "\u001b[0m"
     ]
    }
   ],
   "source": [
    "!ray start --head --port=6379 --redis-password=\"cbgt2\"  #command line "
   ]
  },
  {
   "cell_type": "code",
   "execution_count": 16,
   "metadata": {},
   "outputs": [
    {
     "name": "stdout",
     "output_type": "stream",
     "text": [
      "\u001b[38;5;153mLocal node IP\u001b[39m: \u001b[1m10.162.14.77\u001b[22m\n",
      "[2021-06-21 13:25:38,728 C 12356 163288] service_based_gcs_client.cc:248: Couldn't reconnect to GCS server. The last attempted GCS server address was 10.162.14.77:52068\n",
      "*** StackTrace Information ***\n",
      "    @        0x10c044900  ray::SpdLogMessage::Flush()\n",
      "    @        0x10c01bb29  ray::RayLog::~RayLog()\n",
      "    @        0x10bcdc5ac  ray::gcs::ServiceBasedGcsClient::ReconnectGcsServer()\n",
      "    @        0x10bc83aff  _ZZN3ray3rpc12GcsRpcClient14GetAllNodeInfoERKNS0_21GetAllNodeInfoRequestERKNSt3__18functionIFvRKNS_6StatusERKNS0_19GetAllNodeInfoReplyEEEEENKUlS9_SC_E_clES9_SC_\n",
      "    @        0x10bc8346b  ray::rpc::ClientCallImpl<>::OnReplyReceived()\n",
      "    @        0x10bb42ac6  _ZNSt3__110__function6__funcIZN3ray3rpc17ClientCallManager29PollEventsFromCompletionQueueEiEUlvE_NS_9allocatorIS5_EEFvvEEclEv\n",
      "    @        0x10bfda8a8  boost::asio::detail::completion_handler<>::do_complete()\n",
      "    @        0x10c119ce3  boost::asio::detail::scheduler::do_run_one()\n",
      "    @        0x10c110eb2  boost::asio::detail::scheduler::run()\n",
      "    @        0x10c110dcb  boost::asio::io_context::run()\n",
      "    @        0x10baf122e  std::__1::__thread_proxy<>()\n",
      "    @     0x7fff203668fc  _pthread_start\n",
      "    @     0x7fff20362443  thread_start\n",
      "\n"
     ]
    }
   ],
   "source": [
    "!ray start --address='10.162.14.77:6379' --redis-password='cbgt2' #command line "
   ]
  },
  {
   "cell_type": "markdown",
   "metadata": {},
   "source": [
    "### install autopep8"
   ]
  },
  {
   "cell_type": "code",
   "execution_count": null,
   "metadata": {},
   "outputs": [],
   "source": [
    "# !pip install --upgrade autopep8"
   ]
  },
  {
   "cell_type": "markdown",
   "metadata": {},
   "source": [
    "### how to run autopep8\n",
    "\n",
    "uncomment and run this on any code files you create before pushing to github"
   ]
  },
  {
   "cell_type": "code",
   "execution_count": null,
   "metadata": {},
   "outputs": [],
   "source": [
    "# !autopep8 --in-place --aggressive --aggressive <filename>.py"
   ]
  },
  {
   "cell_type": "markdown",
   "metadata": {},
   "source": [
    "### import the core cbgt code and any of your files"
   ]
  },
  {
   "cell_type": "code",
   "execution_count": 2,
   "metadata": {},
   "outputs": [
    {
     "name": "stderr",
     "output_type": "stream",
     "text": [
      "2021-06-22 09:48:02,259\tINFO worker.py:726 -- Connecting to existing Ray cluster at address: 10.162.14.77:6379\n"
     ]
    }
   ],
   "source": [
    "import cbgt as cbgt\n",
    "# add import statement here for any files you make"
   ]
  },
  {
   "cell_type": "markdown",
   "metadata": {},
   "source": [
    "### create an empty pipeline"
   ]
  },
  {
   "cell_type": "code",
   "execution_count": 3,
   "metadata": {},
   "outputs": [],
   "source": [
    "pl = cbgt.Pipeline()"
   ]
  },
  {
   "cell_type": "markdown",
   "metadata": {},
   "source": [
    "### basic variable assignment\n",
    "\n",
    "Use `pipeline.variablename` to write to a specific variable.\n",
    "\n",
    "Current two kinds of basic assignment are permitted:\n",
    "\n",
    "- assigning a \"constant\" (which can be a whole python expression but it's constant in that the value is calculated immediately and not during pipeline execution)\n",
    "- copying a value from another pipeline variable\n",
    "\n",
    "More is probably on the way"
   ]
  },
  {
   "cell_type": "code",
   "execution_count": 4,
   "metadata": {},
   "outputs": [],
   "source": [
    "pl.hello = \"Hello World!\"\n",
    "pl.world = pl.hello"
   ]
  },
  {
   "cell_type": "code",
   "execution_count": 5,
   "metadata": {},
   "outputs": [
    {
     "data": {
      "text/plain": [
       "<backend.VariablePlaceholder at 0x7fa110ad7d90>"
      ]
     },
     "execution_count": 5,
     "metadata": {},
     "output_type": "execute_result"
    }
   ],
   "source": [
    "# these are special objects, not ordinary object properties\n",
    "pl.hello"
   ]
  },
  {
   "cell_type": "code",
   "execution_count": 6,
   "metadata": {},
   "outputs": [
    {
     "data": {
      "text/plain": [
       "[<backend.BasicAssignmentModule at 0x7fa10004f910>,\n",
       " <backend.BasicCopyModule at 0x7fa10004f880>]"
      ]
     },
     "execution_count": 6,
     "metadata": {},
     "output_type": "execute_result"
    }
   ],
   "source": [
    "# two steps so far\n",
    "pl.modulelist"
   ]
  },
  {
   "cell_type": "markdown",
   "metadata": {},
   "source": [
    "### \"code block\" modules\n",
    "\n",
    "A \"code block\" can be created in the form of a function that takes \"self\" as its only argument. (You can technically use any variable name.)\n",
    "\n",
    "Python doesn't support true code blocks unlike some other languages.\n",
    "\n",
    "Use `pipeline.add(yourfunction)` to add a code block."
   ]
  },
  {
   "cell_type": "code",
   "execution_count": 7,
   "metadata": {},
   "outputs": [],
   "source": [
    "def helper1(number):\n",
    "    # this function is defined in a \"normal way\" outside the context of the pipeline.\n",
    "    # this function be basically anything, it's just to demonstrate that outside functions\n",
    "    # can be used in code block modules\n",
    "    return (number+1, number+2)"
   ]
  },
  {
   "cell_type": "code",
   "execution_count": 8,
   "metadata": {},
   "outputs": [],
   "source": [
    "def codeblock(self):\n",
    "    # you can do pretty much anything you want in here\n",
    "    self.y, self.z = helper1(self.x)\n",
    "    self.x += 1234567\n",
    "    "
   ]
  },
  {
   "cell_type": "code",
   "execution_count": 9,
   "metadata": {},
   "outputs": [
    {
     "data": {
      "text/plain": [
       "<backend.Pipeline at 0x7fa10004f160>"
      ]
     },
     "execution_count": 9,
     "metadata": {},
     "output_type": "execute_result"
    }
   ],
   "source": [
    "pl.add(codeblock)"
   ]
  },
  {
   "cell_type": "code",
   "execution_count": 10,
   "metadata": {},
   "outputs": [
    {
     "data": {
      "text/plain": [
       "[<backend.BasicAssignmentModule at 0x7fa10004f910>,\n",
       " <backend.BasicCopyModule at 0x7fa10004f880>,\n",
       " <backend.CodeTaskFunctionModule at 0x7fa111eb8400>]"
      ]
     },
     "execution_count": 10,
     "metadata": {},
     "output_type": "execute_result"
    }
   ],
   "source": [
    "pl.modulelist"
   ]
  },
  {
   "cell_type": "markdown",
   "metadata": {},
   "source": [
    "### function modules\n",
    "\n",
    "Functions can be transformed into modules by specifying their inputs and outputs.  There is a special syntax for doing this.\n",
    "\n",
    "`pipeline.output = pipeline[function](arguments=whatever)`\n",
    "\n",
    "If a function has multiple outputs (a tuple) then use the `.shape()` function to change the output into the needed shape. This function takes a length (or list of lengths for nested tuples) as input. "
   ]
  },
  {
   "cell_type": "code",
   "execution_count": 11,
   "metadata": {},
   "outputs": [],
   "source": [
    "def helper2(first,second):\n",
    "    # function with 1 output and 2 inputs\n",
    "    return \"\".join([first,second])"
   ]
  },
  {
   "cell_type": "code",
   "execution_count": 12,
   "metadata": {},
   "outputs": [],
   "source": [
    "# regularly this is what you'd do\n",
    "# joined = helper2(hello, second=\"!!!!\")"
   ]
  },
  {
   "cell_type": "code",
   "execution_count": 13,
   "metadata": {},
   "outputs": [],
   "source": [
    "# arguments can be passed either by position or name, just like when you call the function normally\n",
    "pl.joined = pl[helper2](pl.hello, second=\"!!!!\")"
   ]
  },
  {
   "cell_type": "code",
   "execution_count": 14,
   "metadata": {},
   "outputs": [
    {
     "data": {
      "text/plain": [
       "[<backend.BasicAssignmentModule at 0x7fa10004f910>,\n",
       " <backend.BasicCopyModule at 0x7fa10004f880>,\n",
       " <backend.CodeTaskFunctionModule at 0x7fa111eb8400>,\n",
       " <backend.FunctionModule at 0x7fa111eb8160>]"
      ]
     },
     "execution_count": 14,
     "metadata": {},
     "output_type": "execute_result"
    }
   ],
   "source": [
    "pl.modulelist"
   ]
  },
  {
   "cell_type": "code",
   "execution_count": 15,
   "metadata": {},
   "outputs": [],
   "source": [
    "# you can pass in external values no problem\n",
    "\n",
    "pl.a,pl.b = pl[helper1](10000).shape(2)"
   ]
  },
  {
   "cell_type": "code",
   "execution_count": 16,
   "metadata": {},
   "outputs": [
    {
     "data": {
      "text/plain": [
       "[<backend.BasicAssignmentModule at 0x7fa10004f910>,\n",
       " <backend.BasicCopyModule at 0x7fa10004f880>,\n",
       " <backend.CodeTaskFunctionModule at 0x7fa111eb8400>,\n",
       " <backend.FunctionModule at 0x7fa111eb8160>,\n",
       " <backend.FunctionModule at 0x7fa111eb8eb0>]"
      ]
     },
     "execution_count": 16,
     "metadata": {},
     "output_type": "execute_result"
    }
   ],
   "source": [
    "pl.modulelist"
   ]
  },
  {
   "cell_type": "markdown",
   "metadata": {},
   "source": [
    "### pipeline composition\n",
    "\n",
    "You can build up a pipeline and then `.add(...)` it to another pipeline.\n",
    "\n",
    "You can use multiple `.add()` in one line."
   ]
  },
  {
   "cell_type": "code",
   "execution_count": 17,
   "metadata": {},
   "outputs": [],
   "source": [
    "def countingblock(self):\n",
    "    try:\n",
    "        self.counter += 1\n",
    "    except:\n",
    "        self.counter = 1"
   ]
  },
  {
   "cell_type": "code",
   "execution_count": 18,
   "metadata": {},
   "outputs": [],
   "source": [
    "anotherpipeline = cbgt.Pipeline().add(countingblock).add(countingblock).add(countingblock)"
   ]
  },
  {
   "cell_type": "code",
   "execution_count": 19,
   "metadata": {},
   "outputs": [
    {
     "data": {
      "text/plain": [
       "[<backend.CodeTaskFunctionModule at 0x7fa111eb8a00>,\n",
       " <backend.CodeTaskFunctionModule at 0x7fa111eb8e50>,\n",
       " <backend.CodeTaskFunctionModule at 0x7fa111eb8910>]"
      ]
     },
     "execution_count": 19,
     "metadata": {},
     "output_type": "execute_result"
    }
   ],
   "source": [
    "anotherpipeline.modulelist"
   ]
  },
  {
   "cell_type": "code",
   "execution_count": 20,
   "metadata": {},
   "outputs": [
    {
     "data": {
      "text/plain": [
       "<backend.Pipeline at 0x7fa10004f160>"
      ]
     },
     "execution_count": 20,
     "metadata": {},
     "output_type": "execute_result"
    }
   ],
   "source": [
    "pl.add(anotherpipeline)"
   ]
  },
  {
   "cell_type": "code",
   "execution_count": 21,
   "metadata": {},
   "outputs": [
    {
     "data": {
      "text/plain": [
       "[<backend.BasicAssignmentModule at 0x7fa10004f910>,\n",
       " <backend.BasicCopyModule at 0x7fa10004f880>,\n",
       " <backend.CodeTaskFunctionModule at 0x7fa111eb8400>,\n",
       " <backend.FunctionModule at 0x7fa111eb8160>,\n",
       " <backend.FunctionModule at 0x7fa111eb8eb0>,\n",
       " <backend.PipelineModule at 0x7fa111eb8970>]"
      ]
     },
     "execution_count": 21,
     "metadata": {},
     "output_type": "execute_result"
    }
   ],
   "source": [
    "pl.modulelist"
   ]
  },
  {
   "cell_type": "markdown",
   "metadata": {},
   "source": [
    "### running a pipeline\n",
    "\n",
    "1. You can optionally create a dictionary of variable values as the initial state of the pipeline\n",
    "\n",
    "2. You then use `executionmanager.run(pipeline,...)` which returns a new dictionary... the results"
   ]
  },
  {
   "cell_type": "code",
   "execution_count": 22,
   "metadata": {},
   "outputs": [],
   "source": [
    "environment = {\n",
    "    'x': 100,\n",
    "}"
   ]
  },
  {
   "cell_type": "code",
   "execution_count": 23,
   "metadata": {},
   "outputs": [],
   "source": [
    "results = cbgt.ExecutionManager(cores=7).run(pl,environment)"
   ]
  },
  {
   "cell_type": "code",
   "execution_count": 24,
   "metadata": {},
   "outputs": [
    {
     "data": {
      "text/plain": [
       "{'x': 1234667,\n",
       " 'hello': 'Hello World!',\n",
       " 'world': 'Hello World!',\n",
       " 'y': 101,\n",
       " 'z': 102,\n",
       " 'joined': 'Hello World!!!!!',\n",
       " 'a': 10001,\n",
       " 'b': 10002,\n",
       " 'counter': 3}"
      ]
     },
     "execution_count": 24,
     "metadata": {},
     "output_type": "execute_result"
    },
    {
     "name": "stderr",
     "output_type": "stream",
     "text": [
      "2021-06-22 11:07:01,552\tWARNING worker.py:1114 -- The node with node id: a5732888ef954b214ded9badf4d0ae711e7e525f1c023dec6cf303dc and ip: 10.162.14.77 has been marked dead because the detector has missed too many heartbeats from it. This can happen when a raylet crashes unexpectedly or has lagging heartbeats.\n",
      "2021-06-22 11:07:01,555\tWARNING worker.py:1114 -- The node with node id: 1966c259c16e75e5be0792381b7f1b66a62cd7e42af27990e6ea4584 and ip: 10.162.14.77 has been marked dead because the detector has missed too many heartbeats from it. This can happen when a raylet crashes unexpectedly or has lagging heartbeats.\n",
      "2021-06-22 11:07:05,065\tWARNING worker.py:1114 -- The autoscaler failed with the following error:\n",
      "Traceback (most recent call last):\n",
      "  File \"/opt/anaconda3/lib/python3.8/site-packages/ray/autoscaler/_private/monitor.py\", line 317, in run\n",
      "    self._run()\n",
      "  File \"/opt/anaconda3/lib/python3.8/site-packages/ray/autoscaler/_private/monitor.py\", line 207, in _run\n",
      "    self.update_load_metrics()\n",
      "  File \"/opt/anaconda3/lib/python3.8/site-packages/ray/autoscaler/_private/monitor.py\", line 169, in update_load_metrics\n",
      "    response = self.gcs_node_resources_stub.GetAllResourceUsage(\n",
      "  File \"/opt/anaconda3/lib/python3.8/site-packages/grpc/_channel.py\", line 946, in __call__\n",
      "    return _end_unary_response_blocking(state, call, False, None)\n",
      "  File \"/opt/anaconda3/lib/python3.8/site-packages/grpc/_channel.py\", line 849, in _end_unary_response_blocking\n",
      "    raise _InactiveRpcError(state)\n",
      "grpc._channel._InactiveRpcError: <_InactiveRpcError of RPC that terminated with:\n",
      "\tstatus = StatusCode.DEADLINE_EXCEEDED\n",
      "\tdetails = \"Deadline Exceeded\"\n",
      "\tdebug_error_string = \"{\"created\":\"@1624352628.101928000\",\"description\":\"Error received from peer ipv4:10.162.14.77:49536\",\"file\":\"src/core/lib/surface/call.cc\",\"file_line\":1067,\"grpc_message\":\"Deadline Exceeded\",\"grpc_status\":4}\"\n",
      ">\n",
      "\n",
      "\u001b[2m\u001b[33m(raylet)\u001b[0m [2021-06-22 11:07:04,937 C 932 11588] node_manager.cc:166: This node has beem marked as dead.\n",
      "\u001b[2m\u001b[33m(raylet)\u001b[0m [2021-06-22 11:07:04,938 E 932 11588] logging.cc:441: *** Aborted at 1624352824 (unix time) try \"date -d @1624352824\" if you are using GNU date ***\n",
      "\u001b[2m\u001b[33m(raylet)\u001b[0m [2021-06-22 11:07:04,939 E 932 11588] logging.cc:441: PC: @                0x0 (unknown)\n",
      "\u001b[2m\u001b[33m(raylet)\u001b[0m [2021-06-22 11:07:04,939 E 932 11588] logging.cc:441: *** SIGABRT (@0x7ffe942deab8) received by PID 932 (TID 0x20474fe00) stack trace: ***\n",
      "\u001b[2m\u001b[33m(raylet)\u001b[0m [2021-06-22 11:07:04,942 E 932 11588] logging.cc:441:     @     0x7fff20367d7d _sigtramp\n",
      "\u001b[2m\u001b[33m(raylet)\u001b[0m [2021-06-22 11:07:04,942 E 932 11588] logging.cc:441:     @                0x0 (unknown)\n",
      "\u001b[2m\u001b[33m(raylet)\u001b[0m [2021-06-22 11:07:04,943 E 932 11588] logging.cc:441:     @     0x7fff20277411 abort\n",
      "\u001b[2m\u001b[33m(raylet)\u001b[0m [2021-06-22 11:07:04,945 E 932 11588] logging.cc:441:     @        0x1030ba382 ray::SpdLogMessage::Flush()\n",
      "\u001b[2m\u001b[33m(raylet)\u001b[0m [2021-06-22 11:07:04,945 E 932 11588] logging.cc:441:     @        0x1030913f9 ray::RayLog::~RayLog()\n",
      "\u001b[2m\u001b[33m(raylet)\u001b[0m [2021-06-22 11:07:04,946 E 932 11588] logging.cc:441:     @        0x102bf8d08 std::__1::__function::__func<>::operator()()\n",
      "\u001b[2m\u001b[33m(raylet)\u001b[0m [2021-06-22 11:07:04,946 E 932 11588] logging.cc:441:     @        0x102db8411 std::__1::__function::__func<>::operator()()\n",
      "\u001b[2m\u001b[33m(raylet)\u001b[0m [2021-06-22 11:07:04,947 E 932 11588] logging.cc:441:     @        0x102d7fac4 _ZZN3ray3rpc12GcsRpcClient15ReportHeartbeatERKNS0_22ReportHeartbeatRequestERKNSt3__18functionIFvRKNS_6StatusERKNS0_20ReportHeartbeatReplyEEEEENKUlS9_SC_E_clES9_SC_\n",
      "\u001b[2m\u001b[33m(raylet)\u001b[0m [2021-06-22 11:07:04,947 E 932 11588] logging.cc:441:     @        0x102d7f3bb ray::rpc::ClientCallImpl<>::OnReplyReceived()\n",
      "\u001b[2m\u001b[33m(raylet)\u001b[0m [2021-06-22 11:07:04,947 E 932 11588] logging.cc:441:     @        0x102ddad46 _ZNSt3__110__function6__funcIZN3ray3rpc17ClientCallManager29PollEventsFromCompletionQueueEiEUlvE_NS_9allocatorIS5_EEFvvEEclEv\n",
      "\u001b[2m\u001b[33m(raylet)\u001b[0m [2021-06-22 11:07:04,948 E 932 11588] logging.cc:441:     @        0x10304e5a8 boost::asio::detail::completion_handler<>::do_complete()\n",
      "\u001b[2m\u001b[33m(raylet)\u001b[0m [2021-06-22 11:07:04,948 E 932 11588] logging.cc:441:     @        0x10354d7c3 boost::asio::detail::scheduler::do_run_one()\n",
      "\u001b[2m\u001b[33m(raylet)\u001b[0m [2021-06-22 11:07:04,948 E 932 11588] logging.cc:441:     @        0x103544992 boost::asio::detail::scheduler::run()\n",
      "\u001b[2m\u001b[33m(raylet)\u001b[0m [2021-06-22 11:07:04,949 E 932 11588] logging.cc:441:     @        0x1035448ab boost::asio::io_context::run()\n",
      "\u001b[2m\u001b[33m(raylet)\u001b[0m [2021-06-22 11:07:04,949 E 932 11588] logging.cc:441:     @        0x102b8e96f main\n",
      "\u001b[2m\u001b[33m(raylet)\u001b[0m [2021-06-22 11:07:04,949 E 932 11588] logging.cc:441:     @     0x7fff2033df5d start\n",
      "\u001b[2m\u001b[33m(raylet)\u001b[0m [2021-06-22 11:07:04,935 C 943 12435] node_manager.cc:166: This node has beem marked as dead.\n",
      "\u001b[2m\u001b[33m(raylet)\u001b[0m [2021-06-22 11:07:04,938 E 943 12435] logging.cc:441: *** Aborted at 1624352824 (unix time) try \"date -d @1624352824\" if you are using GNU date ***\n",
      "\u001b[2m\u001b[33m(raylet)\u001b[0m [2021-06-22 11:07:04,939 E 943 12435] logging.cc:441: PC: @                0x0 (unknown)\n",
      "\u001b[2m\u001b[33m(raylet)\u001b[0m [2021-06-22 11:07:04,939 E 943 12435] logging.cc:441: *** SIGABRT (@0x7ffe942deab8) received by PID 943 (TID 0x205c20e00) stack trace: ***\n",
      "\u001b[2m\u001b[33m(raylet)\u001b[0m [2021-06-22 11:07:04,942 E 943 12435] logging.cc:441:     @     0x7fff20367d7d _sigtramp\n",
      "\u001b[2m\u001b[33m(raylet)\u001b[0m [2021-06-22 11:07:04,942 E 943 12435] logging.cc:441:     @                0x0 (unknown)\n",
      "\u001b[2m\u001b[33m(raylet)\u001b[0m [2021-06-22 11:07:04,943 E 943 12435] logging.cc:441:     @     0x7fff20277411 abort\n",
      "\u001b[2m\u001b[33m(raylet)\u001b[0m [2021-06-22 11:07:04,945 E 943 12435] logging.cc:441:     @        0x10461f382 ray::SpdLogMessage::Flush()\n",
      "\u001b[2m\u001b[33m(raylet)\u001b[0m [2021-06-22 11:07:04,945 E 943 12435] logging.cc:441:     @        0x1045f63f9 ray::RayLog::~RayLog()\n",
      "\u001b[2m\u001b[33m(raylet)\u001b[0m [2021-06-22 11:07:04,946 E 943 12435] logging.cc:441:     @        0x10415dd08 std::__1::__function::__func<>::operator()()\n",
      "\u001b[2m\u001b[33m(raylet)\u001b[0m [2021-06-22 11:07:04,946 E 943 12435] logging.cc:441:     @        0x10431d411 std::__1::__function::__func<>::operator()()\n",
      "\u001b[2m\u001b[33m(raylet)\u001b[0m [2021-06-22 11:07:04,947 E 943 12435] logging.cc:441:     @        0x1042e4ac4 _ZZN3ray3rpc12GcsRpcClient15ReportHeartbeatERKNS0_22ReportHeartbeatRequestERKNSt3__18functionIFvRKNS_6StatusERKNS0_20ReportHeartbeatReplyEEEEENKUlS9_SC_E_clES9_SC_\n",
      "\u001b[2m\u001b[33m(raylet)\u001b[0m [2021-06-22 11:07:04,947 E 943 12435] logging.cc:441:     @        0x1042e43bb ray::rpc::ClientCallImpl<>::OnReplyReceived()\n",
      "\u001b[2m\u001b[33m(raylet)\u001b[0m [2021-06-22 11:07:04,947 E 943 12435] logging.cc:441:     @        0x10433fd46 _ZNSt3__110__function6__funcIZN3ray3rpc17ClientCallManager29PollEventsFromCompletionQueueEiEUlvE_NS_9allocatorIS5_EEFvvEEclEv\n",
      "\u001b[2m\u001b[33m(raylet)\u001b[0m [2021-06-22 11:07:04,948 E 943 12435] logging.cc:441:     @        0x1045b35a8 boost::asio::detail::completion_handler<>::do_complete()\n",
      "\u001b[2m\u001b[33m(raylet)\u001b[0m [2021-06-22 11:07:04,948 E 943 12435] logging.cc:441:     @        0x104ab27c3 boost::asio::detail::scheduler::do_run_one()\n",
      "\u001b[2m\u001b[33m(raylet)\u001b[0m [2021-06-22 11:07:04,948 E 943 12435] logging.cc:441:     @        0x104aa9992 boost::asio::detail::scheduler::run()\n",
      "\u001b[2m\u001b[33m(raylet)\u001b[0m [2021-06-22 11:07:04,949 E 943 12435] logging.cc:441:     @        0x104aa98ab boost::asio::io_context::run()\n",
      "\u001b[2m\u001b[33m(raylet)\u001b[0m [2021-06-22 11:07:04,949 E 943 12435] logging.cc:441:     @        0x1040f396f main\n",
      "\u001b[2m\u001b[33m(raylet)\u001b[0m [2021-06-22 11:07:04,949 E 943 12435] logging.cc:441:     @     0x7fff2033df5d start\n",
      "\u001b[2m\u001b[33m(raylet)\u001b[0m [2021-06-22 11:07:04,937 C 932 11588] node_manager.cc:166: This node has beem marked as dead.\n",
      "\u001b[2m\u001b[33m(raylet)\u001b[0m [2021-06-22 11:07:04,938 E 932 11588] logging.cc:441: *** Aborted at 1624352824 (unix time) try \"date -d @1624352824\" if you are using GNU date ***\n",
      "\u001b[2m\u001b[33m(raylet)\u001b[0m [2021-06-22 11:07:04,939 E 932 11588] logging.cc:441: PC: @                0x0 (unknown)\n",
      "\u001b[2m\u001b[33m(raylet)\u001b[0m [2021-06-22 11:07:04,939 E 932 11588] logging.cc:441: *** SIGABRT (@0x7ffe942deab8) received by PID 932 (TID 0x20474fe00) stack trace: ***\n",
      "\u001b[2m\u001b[33m(raylet)\u001b[0m [2021-06-22 11:07:04,942 E 932 11588] logging.cc:441:     @     0x7fff20367d7d _sigtramp\n",
      "\u001b[2m\u001b[33m(raylet)\u001b[0m [2021-06-22 11:07:04,942 E 932 11588] logging.cc:441:     @                0x0 (unknown)\n",
      "\u001b[2m\u001b[33m(raylet)\u001b[0m [2021-06-22 11:07:04,943 E 932 11588] logging.cc:441:     @     0x7fff20277411 abort\n",
      "\u001b[2m\u001b[33m(raylet)\u001b[0m [2021-06-22 11:07:04,945 E 932 11588] logging.cc:441:     @        0x1030ba382 ray::SpdLogMessage::Flush()\n",
      "\u001b[2m\u001b[33m(raylet)\u001b[0m [2021-06-22 11:07:04,945 E 932 11588] logging.cc:441:     @        0x1030913f9 ray::RayLog::~RayLog()\n",
      "\u001b[2m\u001b[33m(raylet)\u001b[0m [2021-06-22 11:07:04,946 E 932 11588] logging.cc:441:     @        0x102bf8d08 std::__1::__function::__func<>::operator()()\n",
      "\u001b[2m\u001b[33m(raylet)\u001b[0m [2021-06-22 11:07:04,946 E 932 11588] logging.cc:441:     @        0x102db8411 std::__1::__function::__func<>::operator()()\n",
      "\u001b[2m\u001b[33m(raylet)\u001b[0m [2021-06-22 11:07:04,947 E 932 11588] logging.cc:441:     @        0x102d7fac4 _ZZN3ray3rpc12GcsRpcClient15ReportHeartbeatERKNS0_22ReportHeartbeatRequestERKNSt3__18functionIFvRKNS_6StatusERKNS0_20ReportHeartbeatReplyEEEEENKUlS9_SC_E_clES9_SC_\n",
      "\u001b[2m\u001b[33m(raylet)\u001b[0m [2021-06-22 11:07:04,947 E 932 11588] logging.cc:441:     @        0x102d7f3bb ray::rpc::ClientCallImpl<>::OnReplyReceived()\n",
      "\u001b[2m\u001b[33m(raylet)\u001b[0m [2021-06-22 11:07:04,947 E 932 11588] logging.cc:441:     @        0x102ddad46 _ZNSt3__110__function6__funcIZN3ray3rpc17ClientCallManager29PollEventsFromCompletionQueueEiEUlvE_NS_9allocatorIS5_EEFvvEEclEv\n",
      "\u001b[2m\u001b[33m(raylet)\u001b[0m [2021-06-22 11:07:04,948 E 932 11588] logging.cc:441:     @        0x10304e5a8 boost::asio::detail::completion_handler<>::do_complete()\n",
      "\u001b[2m\u001b[33m(raylet)\u001b[0m [2021-06-22 11:07:04,948 E 932 11588] logging.cc:441:     @        0x10354d7c3 boost::asio::detail::scheduler::do_run_one()\n",
      "\u001b[2m\u001b[33m(raylet)\u001b[0m [2021-06-22 11:07:04,948 E 932 11588] logging.cc:441:     @        0x103544992 boost::asio::detail::scheduler::run()\n",
      "\u001b[2m\u001b[33m(raylet)\u001b[0m [2021-06-22 11:07:04,949 E 932 11588] logging.cc:441:     @        0x1035448ab boost::asio::io_context::run()\n",
      "\u001b[2m\u001b[33m(raylet)\u001b[0m [2021-06-22 11:07:04,949 E 932 11588] logging.cc:441:     @        0x102b8e96f main\n",
      "\u001b[2m\u001b[33m(raylet)\u001b[0m [2021-06-22 11:07:04,949 E 932 11588] logging.cc:441:     @     0x7fff2033df5d start\n",
      "\u001b[2m\u001b[33m(raylet)\u001b[0m [2021-06-22 11:07:04,935 C 943 12435] node_manager.cc:166: This node has beem marked as dead.\n",
      "\u001b[2m\u001b[33m(raylet)\u001b[0m [2021-06-22 11:07:04,938 E 943 12435] logging.cc:441: *** Aborted at 1624352824 (unix time) try \"date -d @1624352824\" if you are using GNU date ***\n",
      "\u001b[2m\u001b[33m(raylet)\u001b[0m [2021-06-22 11:07:04,939 E 943 12435] logging.cc:441: PC: @                0x0 (unknown)\n",
      "\u001b[2m\u001b[33m(raylet)\u001b[0m [2021-06-22 11:07:04,939 E 943 12435] logging.cc:441: *** SIGABRT (@0x7ffe942deab8) received by PID 943 (TID 0x205c20e00) stack trace: ***\n",
      "\u001b[2m\u001b[33m(raylet)\u001b[0m [2021-06-22 11:07:04,942 E 943 12435] logging.cc:441:     @     0x7fff20367d7d _sigtramp\n",
      "\u001b[2m\u001b[33m(raylet)\u001b[0m [2021-06-22 11:07:04,942 E 943 12435] logging.cc:441:     @                0x0 (unknown)\n",
      "\u001b[2m\u001b[33m(raylet)\u001b[0m [2021-06-22 11:07:04,943 E 943 12435] logging.cc:441:     @     0x7fff20277411 abort\n",
      "\u001b[2m\u001b[33m(raylet)\u001b[0m [2021-06-22 11:07:04,945 E 943 12435] logging.cc:441:     @        0x10461f382 ray::SpdLogMessage::Flush()\n",
      "\u001b[2m\u001b[33m(raylet)\u001b[0m [2021-06-22 11:07:04,945 E 943 12435] logging.cc:441:     @        0x1045f63f9 ray::RayLog::~RayLog()\n",
      "\u001b[2m\u001b[33m(raylet)\u001b[0m [2021-06-22 11:07:04,946 E 943 12435] logging.cc:441:     @        0x10415dd08 std::__1::__function::__func<>::operator()()\n",
      "\u001b[2m\u001b[33m(raylet)\u001b[0m [2021-06-22 11:07:04,946 E 943 12435] logging.cc:441:     @        0x10431d411 std::__1::__function::__func<>::operator()()\n",
      "\u001b[2m\u001b[33m(raylet)\u001b[0m [2021-06-22 11:07:04,947 E 943 12435] logging.cc:441:     @        0x1042e4ac4 _ZZN3ray3rpc12GcsRpcClient15ReportHeartbeatERKNS0_22ReportHeartbeatRequestERKNSt3__18functionIFvRKNS_6StatusERKNS0_20ReportHeartbeatReplyEEEEENKUlS9_SC_E_clES9_SC_\n",
      "\u001b[2m\u001b[33m(raylet)\u001b[0m [2021-06-22 11:07:04,947 E 943 12435] logging.cc:441:     @        0x1042e43bb ray::rpc::ClientCallImpl<>::OnReplyReceived()\n",
      "\u001b[2m\u001b[33m(raylet)\u001b[0m [2021-06-22 11:07:04,947 E 943 12435] logging.cc:441:     @        0x10433fd46 _ZNSt3__110__function6__funcIZN3ray3rpc17ClientCallManager29PollEventsFromCompletionQueueEiEUlvE_NS_9allocatorIS5_EEFvvEEclEv\n",
      "\u001b[2m\u001b[33m(raylet)\u001b[0m [2021-06-22 11:07:04,948 E 943 12435] logging.cc:441:     @        0x1045b35a8 boost::asio::detail::completion_handler<>::do_complete()\n",
      "\u001b[2m\u001b[33m(raylet)\u001b[0m [2021-06-22 11:07:04,948 E 943 12435] logging.cc:441:     @        0x104ab27c3 boost::asio::detail::scheduler::do_run_one()\n",
      "\u001b[2m\u001b[33m(raylet)\u001b[0m [2021-06-22 11:07:04,948 E 943 12435] logging.cc:441:     @        0x104aa9992 boost::asio::detail::scheduler::run()\n",
      "\u001b[2m\u001b[33m(raylet)\u001b[0m [2021-06-22 11:07:04,949 E 943 12435] logging.cc:441:     @        0x104aa98ab boost::asio::io_context::run()\n",
      "\u001b[2m\u001b[33m(raylet)\u001b[0m [2021-06-22 11:07:04,949 E 943 12435] logging.cc:441:     @        0x1040f396f main\n",
      "\u001b[2m\u001b[33m(raylet)\u001b[0m [2021-06-22 11:07:04,949 E 943 12435] logging.cc:441:     @     0x7fff2033df5d start\n"
     ]
    }
   ],
   "source": [
    "results"
   ]
  },
  {
   "cell_type": "markdown",
   "metadata": {},
   "source": [
    "### examples of importing other code snippets"
   ]
  },
  {
   "cell_type": "code",
   "execution_count": null,
   "metadata": {},
   "outputs": [],
   "source": [
    "from phaseAsegment1 import *"
   ]
  },
  {
   "cell_type": "code",
   "execution_count": null,
   "metadata": {},
   "outputs": [],
   "source": [
    "popdata"
   ]
  },
  {
   "cell_type": "code",
   "execution_count": null,
   "metadata": {},
   "outputs": [],
   "source": [
    "from phaseAsegment2 import *"
   ]
  },
  {
   "cell_type": "code",
   "execution_count": null,
   "metadata": {},
   "outputs": [],
   "source": [
    "t1_epochs"
   ]
  },
  {
   "cell_type": "markdown",
   "metadata": {},
   "source": [
    "# new code"
   ]
  },
  {
   "cell_type": "code",
   "execution_count": null,
   "metadata": {},
   "outputs": [],
   "source": [
    "pl = cbgt.Pipeline()"
   ]
  },
  {
   "cell_type": "code",
   "execution_count": null,
   "metadata": {},
   "outputs": [],
   "source": []
  },
  {
   "cell_type": "code",
   "execution_count": null,
   "metadata": {},
   "outputs": [],
   "source": []
  },
  {
   "cell_type": "markdown",
   "metadata": {},
   "source": [
    "# testing"
   ]
  },
  {
   "cell_type": "code",
   "execution_count": null,
   "metadata": {},
   "outputs": [],
   "source": [
    "# fill in with whatever you need as the starting variables\n",
    "environment = {\n",
    "}"
   ]
  },
  {
   "cell_type": "code",
   "execution_count": null,
   "metadata": {},
   "outputs": [],
   "source": [
    "results = cbgt.ExecutionManager(cores=7).run(pl,environment)\n",
    "results"
   ]
  },
  {
   "cell_type": "code",
   "execution_count": null,
   "metadata": {},
   "outputs": [],
   "source": [
    "# compare results to desired values "
   ]
  }
 ],
 "metadata": {
  "kernelspec": {
   "display_name": "Python 3",
   "language": "python",
   "name": "python3"
  },
  "language_info": {
   "codemirror_mode": {
    "name": "ipython",
    "version": 3
   },
   "file_extension": ".py",
   "mimetype": "text/x-python",
   "name": "python",
   "nbconvert_exporter": "python",
   "pygments_lexer": "ipython3",
   "version": "3.8.5"
  }
 },
 "nbformat": 4,
 "nbformat_minor": 4
}
