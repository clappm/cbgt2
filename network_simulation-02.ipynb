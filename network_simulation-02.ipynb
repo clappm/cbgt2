{
 "cells": [
  {
   "cell_type": "markdown",
   "metadata": {},
   "source": [
    "### To run the cbgt network, see first the technical_testbench to install all the required packages and start the server "
   ]
  },
  {
   "cell_type": "code",
   "execution_count": 1,
   "metadata": {},
   "outputs": [],
   "source": [
    "#Auto reloading \n",
    "%load_ext autoreload\n",
    "%autoreload 2\n",
    "%reload_ext autoreload "
   ]
  },
  {
   "cell_type": "code",
   "execution_count": 2,
   "metadata": {},
   "outputs": [],
   "source": [
    "#Removing indentation issues:\n",
    "#!autopep8 --in-place --aggressive --aggressive init_params.py\n",
    "#!autopep8 --in-place --aggressive --aggressive popconstruct.py\n",
    "#!autopep8 --in-place --aggressive --aggressive generateepochs.py\n",
    "#!autopep8 --in-place --aggressive --aggressive qvalues.py"
   ]
  },
  {
   "cell_type": "code",
   "execution_count": 3,
   "metadata": {},
   "outputs": [
    {
     "name": "stdout",
     "output_type": "stream",
     "text": [
      "running build_ext\n",
      "copying build\\lib.win-amd64-3.8\\agent_timestep.cp38-win_amd64.pyd -> \n"
     ]
    }
   ],
   "source": [
    "!python setup.py build_ext --inplace"
   ]
  },
  {
   "cell_type": "code",
   "execution_count": 4,
   "metadata": {},
   "outputs": [
    {
     "name": "stderr",
     "output_type": "stream",
     "text": [
      "2021-09-28 05:47:55,413\tINFO worker.py:800 -- Connecting to existing Ray cluster at address: 192.168.1.208:6379\n"
     ]
    }
   ],
   "source": [
    "#Importing scripts:\n",
    "import cbgt as cbgt\n",
    "from frontendhelpers import * \n",
    "from tracetype import *\n",
    "import init_params as par \n",
    "import popconstruct as popconstruct\n",
    "import qvalues as qval\n",
    "import generateepochs as gen\n",
    "from agentmatrixinit import *\n",
    "#from general_init_codeblocks import *\n",
    "from agent_timestep import timestep_mutator, multitimestep_mutator\n",
    "import pdb\n",
    "import pipeline_creation as pl_creat\n",
    "import mega_loop as ml\n",
    "\n",
    "import matplotlib.pyplot as plt"
   ]
  },
  {
   "cell_type": "markdown",
   "metadata": {},
   "source": [
    "# Create pipeline"
   ]
  },
  {
   "cell_type": "markdown",
   "metadata": {},
   "source": [
    "### Network pipeline"
   ]
  },
  {
   "cell_type": "code",
   "execution_count": 5,
   "metadata": {},
   "outputs": [
    {
     "name": "stdout",
     "output_type": "stream",
     "text": [
      "5943808\n",
      "[38  2 19 25 17 36 48 10 48 17]\n"
     ]
    }
   ],
   "source": [
    "seed = np.random.randint(0,9999999)\n",
    "print(seed)\n",
    "np.random.seed(seed)\n",
    "to_check = np.random.randint(0,50,10)\n",
    "print(to_check)"
   ]
  },
  {
   "cell_type": "code",
   "execution_count": 6,
   "metadata": {},
   "outputs": [],
   "source": [
    "#Create the whole pipeline.\n",
    "#This pipeline creates three sub-pipelines: \n",
    "#rewards pipeline (rsg), q values pipeline (q_val), network pipeline(pl)\n",
    "\n",
    "pl = pl_creat.create_main_pipeline()\n",
    "mega_l = ml.mega_loop"
   ]
  },
  {
   "cell_type": "markdown",
   "metadata": {},
   "source": [
    "# Timestep loop"
   ]
  },
  {
   "cell_type": "code",
   "execution_count": 7,
   "metadata": {},
   "outputs": [
    {
     "data": {
      "text/plain": [
       "<backend.Pipeline at 0x21e33a2e310>"
      ]
     },
     "execution_count": 7,
     "metadata": {},
     "output_type": "execute_result"
    }
   ],
   "source": [
    "#Adding the timestep loop to the main pipeline\n",
    "pl.add(mega_l)"
   ]
  },
  {
   "cell_type": "markdown",
   "metadata": {},
   "source": [
    "# Running the pipeline"
   ]
  },
  {
   "cell_type": "markdown",
   "metadata": {},
   "source": [
    "### 1. Default values"
   ]
  },
  {
   "cell_type": "code",
   "execution_count": 8,
   "metadata": {},
   "outputs": [
    {
     "name": "stdout",
     "output_type": "stream",
     "text": [
      "\u001b[2m\u001b[36m(pid=27524)\u001b[0m 2 4 0.161668`\n",
      "\u001b[2m\u001b[36m(pid=27524)\u001b[0m 3 5 0.161668`\n",
      "\u001b[2m\u001b[36m(pid=27524)\u001b[0m 10 6 1.0`\n",
      "\u001b[2m\u001b[36m(pid=27524)\u001b[0m 10 8 1.0`\n",
      "\u001b[2m\u001b[36m(pid=27524)\u001b[0m 10 10 0.4335`\n",
      "\u001b[2m\u001b[36m(pid=27524)\u001b[0m 10 11 0.4335`\n",
      "\u001b[2m\u001b[36m(pid=27524)\u001b[0m 10 12 1.0`\n",
      "\u001b[2m\u001b[36m(pid=27524)\u001b[0m 10 13 1.0`\n",
      "\u001b[2m\u001b[36m(pid=27524)\u001b[0m 10 14 1.0`\n",
      "\u001b[2m\u001b[36m(pid=27524)\u001b[0m 10 15 0.241667`\n",
      "\u001b[2m\u001b[36m(pid=27524)\u001b[0m 11 7 1.0`\n",
      "\u001b[2m\u001b[36m(pid=27524)\u001b[0m 11 9 1.0`\n",
      "\u001b[2m\u001b[36m(pid=27524)\u001b[0m 11 10 0.4335`\n",
      "\u001b[2m\u001b[36m(pid=27524)\u001b[0m 11 11 0.4335`\n",
      "\u001b[2m\u001b[36m(pid=27524)\u001b[0m 11 12 1.0`\n",
      "\u001b[2m\u001b[36m(pid=27524)\u001b[0m 11 13 1.0`\n",
      "\u001b[2m\u001b[36m(pid=27524)\u001b[0m 11 14 1.0`\n",
      "\u001b[2m\u001b[36m(pid=27524)\u001b[0m 11 15 0.241667`\n",
      "\u001b[2m\u001b[36m(pid=27524)\u001b[0m 12 6 1.0`\n",
      "\u001b[2m\u001b[36m(pid=27524)\u001b[0m 12 8 1.0`\n",
      "\u001b[2m\u001b[36m(pid=27524)\u001b[0m 12 14 0.8334`\n",
      "\u001b[2m\u001b[36m(pid=27524)\u001b[0m 13 7 1.0`\n",
      "\u001b[2m\u001b[36m(pid=27524)\u001b[0m 13 9 1.0`\n",
      "\u001b[2m\u001b[36m(pid=27524)\u001b[0m 13 14 0.8334`\n",
      "\u001b[2m\u001b[36m(pid=27524)\u001b[0m 0 12 1.0`\n",
      "\u001b[2m\u001b[36m(pid=27524)\u001b[0m 1 13 1.0`\n",
      "\u001b[2m\u001b[36m(pid=27524)\u001b[0m 4 0 1.0`\n",
      "\u001b[2m\u001b[36m(pid=27524)\u001b[0m 4 2 0.0667`\n",
      "\u001b[2m\u001b[36m(pid=27524)\u001b[0m 4 4 0.0667`\n",
      "\u001b[2m\u001b[36m(pid=27524)\u001b[0m 4 5 0.0667`\n",
      "\u001b[2m\u001b[36m(pid=27524)\u001b[0m 5 1 1.0`\n",
      "\u001b[2m\u001b[36m(pid=27524)\u001b[0m 5 3 0.0667`\n",
      "\u001b[2m\u001b[36m(pid=27524)\u001b[0m 5 4 0.0667`\n",
      "\u001b[2m\u001b[36m(pid=27524)\u001b[0m 5 5 0.0667`\n",
      "\u001b[2m\u001b[36m(pid=27524)\u001b[0m 6 0 1.0`\n",
      "\u001b[2m\u001b[36m(pid=27524)\u001b[0m 6 6 0.45`\n",
      "\u001b[2m\u001b[36m(pid=27524)\u001b[0m 6 8 0.45`\n",
      "\u001b[2m\u001b[36m(pid=27524)\u001b[0m 7 1 1.0`\n",
      "\u001b[2m\u001b[36m(pid=27524)\u001b[0m 7 7 0.45`\n",
      "\u001b[2m\u001b[36m(pid=27524)\u001b[0m 7 9 0.45`\n",
      "\u001b[2m\u001b[36m(pid=27524)\u001b[0m 8 4 1.0`\n",
      "\u001b[2m\u001b[36m(pid=27524)\u001b[0m 8 6 0.5`\n",
      "\u001b[2m\u001b[36m(pid=27524)\u001b[0m 8 8 0.45`\n",
      "\u001b[2m\u001b[36m(pid=27524)\u001b[0m 9 5 1.0`\n",
      "\u001b[2m\u001b[36m(pid=27524)\u001b[0m 9 7 0.5`\n",
      "\u001b[2m\u001b[36m(pid=27524)\u001b[0m 9 9 0.45`\n",
      "\u001b[2m\u001b[36m(pid=27524)\u001b[0m 14 6 1.0`\n",
      "\u001b[2m\u001b[36m(pid=27524)\u001b[0m 14 7 1.0`\n",
      "\u001b[2m\u001b[36m(pid=27524)\u001b[0m 14 8 1.0`\n",
      "\u001b[2m\u001b[36m(pid=27524)\u001b[0m 14 9 1.0`\n",
      "\u001b[2m\u001b[36m(pid=27524)\u001b[0m 14 14 1.0`\n",
      "\u001b[2m\u001b[36m(pid=27524)\u001b[0m 15 10 1.0`\n",
      "\u001b[2m\u001b[36m(pid=27524)\u001b[0m 15 11 1.0`\n",
      "\u001b[2m\u001b[36m(pid=27524)\u001b[0m 15 15 1.0`\n",
      "\u001b[2m\u001b[36m(pid=27524)\u001b[0m 2 0 1.0`\n",
      "\u001b[2m\u001b[36m(pid=27524)\u001b[0m 2 1 1.0`\n",
      "\u001b[2m\u001b[36m(pid=27524)\u001b[0m 2 4 0.161668`\n",
      "\u001b[2m\u001b[36m(pid=27524)\u001b[0m 3 0 1.0`\n",
      "\u001b[2m\u001b[36m(pid=27524)\u001b[0m 3 1 1.0`\n",
      "\u001b[2m\u001b[36m(pid=27524)\u001b[0m 3 5 0.161668`\n",
      "\u001b[2m\u001b[36m(pid=27524)\u001b[0m 10 6 1.0`\n",
      "\u001b[2m\u001b[36m(pid=27524)\u001b[0m 10 8 1.0`\n",
      "\u001b[2m\u001b[36m(pid=27524)\u001b[0m 10 10 0.4335`\n",
      "\u001b[2m\u001b[36m(pid=27524)\u001b[0m 10 11 0.4335`\n",
      "\u001b[2m\u001b[36m(pid=27524)\u001b[0m 10 12 1.0`\n",
      "\u001b[2m\u001b[36m(pid=27524)\u001b[0m 10 13 1.0`\n",
      "\u001b[2m\u001b[36m(pid=27524)\u001b[0m 10 15 0.241667`\n",
      "\u001b[2m\u001b[36m(pid=27524)\u001b[0m 11 7 1.0`\n",
      "\u001b[2m\u001b[36m(pid=27524)\u001b[0m 11 9 1.0`\n",
      "\u001b[2m\u001b[36m(pid=27524)\u001b[0m 11 10 0.4335`\n",
      "\u001b[2m\u001b[36m(pid=27524)\u001b[0m 11 11 0.4335`\n",
      "\u001b[2m\u001b[36m(pid=27524)\u001b[0m 11 12 1.0`\n",
      "\u001b[2m\u001b[36m(pid=27524)\u001b[0m 11 13 1.0`\n",
      "\u001b[2m\u001b[36m(pid=27524)\u001b[0m 11 15 0.241667`\n",
      "\u001b[2m\u001b[36m(pid=27524)\u001b[0m 12 10 0.8334`\n",
      "\u001b[2m\u001b[36m(pid=27524)\u001b[0m 12 11 0.8334`\n",
      "\u001b[2m\u001b[36m(pid=27524)\u001b[0m 12 15 0.8334`\n",
      "\u001b[2m\u001b[36m(pid=27524)\u001b[0m 13 10 0.8334`\n",
      "\u001b[2m\u001b[36m(pid=27524)\u001b[0m 13 11 0.8334`\n",
      "\u001b[2m\u001b[36m(pid=27524)\u001b[0m 13 15 0.8334`\n",
      "\u001b[2m\u001b[36m(pid=27524)\u001b[0m phasetimer 81\n",
      "\u001b[2m\u001b[36m(pid=27524)\u001b[0m globaltimer 81\n",
      "\u001b[2m\u001b[36m(pid=27524)\u001b[0m gateFRs [100.   0.]\n",
      "\u001b[2m\u001b[36m(pid=27524)\u001b[0m thresholds_crossed [0]\n",
      "\u001b[2m\u001b[36m(pid=27524)\u001b[0m phasetimer 101\n",
      "\u001b[2m\u001b[36m(pid=27524)\u001b[0m globaltimer 182\n",
      "\u001b[2m\u001b[36m(pid=27524)\u001b[0m   action\n",
      "\u001b[2m\u001b[36m(pid=27524)\u001b[0m 0   left\n",
      "\u001b[2m\u001b[36m(pid=27524)\u001b[0m 1  right\n",
      "\u001b[2m\u001b[36m(pid=27524)\u001b[0m chosen_action left\n",
      "\u001b[2m\u001b[36m(pid=27524)\u001b[0m phasetimer 56\n",
      "\u001b[2m\u001b[36m(pid=27524)\u001b[0m globaltimer 339\n",
      "\u001b[2m\u001b[36m(pid=27524)\u001b[0m gateFRs [100.   0.]\n",
      "\u001b[2m\u001b[36m(pid=27524)\u001b[0m thresholds_crossed [0]\n",
      "\u001b[2m\u001b[36m(pid=27524)\u001b[0m phasetimer 101\n",
      "\u001b[2m\u001b[36m(pid=27524)\u001b[0m globaltimer 440\n",
      "\u001b[2m\u001b[36m(pid=27524)\u001b[0m   action\n",
      "\u001b[2m\u001b[36m(pid=27524)\u001b[0m 0   left\n",
      "\u001b[2m\u001b[36m(pid=27524)\u001b[0m 1  right\n",
      "\u001b[2m\u001b[36m(pid=27524)\u001b[0m chosen_action left\n",
      "\u001b[2m\u001b[36m(pid=27524)\u001b[0m phasetimer 56\n",
      "\u001b[2m\u001b[36m(pid=27524)\u001b[0m globaltimer 597\n",
      "\u001b[2m\u001b[36m(pid=27524)\u001b[0m gateFRs [100.   0.]\n",
      "\u001b[2m\u001b[36m(pid=27524)\u001b[0m thresholds_crossed [0]\n",
      "\u001b[2m\u001b[36m(pid=27524)\u001b[0m phasetimer 101\n",
      "\u001b[2m\u001b[36m(pid=27524)\u001b[0m globaltimer 698\n",
      "\u001b[2m\u001b[36m(pid=27524)\u001b[0m   action\n",
      "\u001b[2m\u001b[36m(pid=27524)\u001b[0m 0   left\n",
      "\u001b[2m\u001b[36m(pid=27524)\u001b[0m 1  right\n",
      "\u001b[2m\u001b[36m(pid=27524)\u001b[0m chosen_action left\n",
      "\u001b[2m\u001b[36m(pid=27524)\u001b[0m phasetimer 63\n",
      "\u001b[2m\u001b[36m(pid=27524)\u001b[0m globaltimer 862\n",
      "\u001b[2m\u001b[36m(pid=27524)\u001b[0m gateFRs [100. 100.]\n",
      "\u001b[2m\u001b[36m(pid=27524)\u001b[0m thresholds_crossed [0 1]\n",
      "\u001b[2m\u001b[36m(pid=27524)\u001b[0m phasetimer 101\n",
      "\u001b[2m\u001b[36m(pid=27524)\u001b[0m globaltimer 963\n",
      "\u001b[2m\u001b[36m(pid=27524)\u001b[0m   action\n",
      "\u001b[2m\u001b[36m(pid=27524)\u001b[0m 0   left\n",
      "\u001b[2m\u001b[36m(pid=27524)\u001b[0m 1  right\n",
      "\u001b[2m\u001b[36m(pid=27524)\u001b[0m chosen_action left\n",
      "\u001b[2m\u001b[36m(pid=27524)\u001b[0m phasetimer 62\n",
      "\u001b[2m\u001b[36m(pid=27524)\u001b[0m globaltimer 1126\n",
      "\u001b[2m\u001b[36m(pid=27524)\u001b[0m gateFRs [100.   0.]\n",
      "\u001b[2m\u001b[36m(pid=27524)\u001b[0m thresholds_crossed [0]\n",
      "\u001b[2m\u001b[36m(pid=27524)\u001b[0m phasetimer 101\n",
      "\u001b[2m\u001b[36m(pid=27524)\u001b[0m globaltimer 1227\n",
      "\u001b[2m\u001b[36m(pid=27524)\u001b[0m   action\n",
      "\u001b[2m\u001b[36m(pid=27524)\u001b[0m 0   left\n",
      "\u001b[2m\u001b[36m(pid=27524)\u001b[0m 1  right\n",
      "\u001b[2m\u001b[36m(pid=27524)\u001b[0m chosen_action left\n"
     ]
    }
   ],
   "source": [
    "#See init_params.py / generateepochs.py / popconstruct.py / qvalues.py\n",
    "#to know the parameters contained in each of the following variables \n",
    "environment = {\n",
    "    'params': None, #neuron parameters (init_params.py)\n",
    "    'pops': None,   #population parameters (init_params.py)\n",
    "    'receps' : None, #receptor parameters (init_params.py)\n",
    "    'base' : None, #baseline stimulation parameters (init_params.py)\n",
    "    'dpmns' : None, #dopamine related parameters (init_params.py)\n",
    "    'd1' : None, #D1-MSNs population related parameters (init_params.py)\n",
    "    'd2' : None, #D2-MSNs population related parameters (init_params.py)\n",
    "    'channels' : pd.DataFrame([[\"left\"],[\"right\"]], columns=['action']), #action channels related parameters (init_params.py)\n",
    "    #'actionchannels' : pd.DataFrame([[1],[2]], columns=['action']), #labels for the actions (init_params.py)\n",
    "    #'actionchannels' : pd.DataFrame([[\"left\"],[\"right\"]], columns=['action']), #labels for the actions (init_params.py)\n",
    "    'newpathways' : None, #connectivity parameters (popconstruct.py)\n",
    "    'Q_support_params': None, #initialization of Q-values update (qvalues.py) \n",
    "    'Q_df':None, #initialized Q-values df (qvalues.py)  \n",
    "    'n_trials': 5, #number of trials (generateepochs.py)\n",
    "    'volatility': 2, #frequency of changepoints (generateepochs.py)\n",
    "    'conflict': 0.7, #probability of the preferred choice (generateepochs.py)\n",
    "    'reward_mu': 1, #mean for the magnitude of the reward (generateepochs.py)\n",
    "    'reward_std': 0.1, #std for the magnitude of the reward (generateepochs.py)\n",
    "}\n",
    "results = cbgt.ExecutionManager(cores=7).run(pl,environment)"
   ]
  },
  {
   "cell_type": "code",
   "execution_count": 9,
   "metadata": {},
   "outputs": [],
   "source": [
    "# agent.rollingbuffer.mean(1) / untrace(list(popdata['N'])) / agent.dt * 1000"
   ]
  },
  {
   "cell_type": "code",
   "execution_count": 10,
   "metadata": {},
   "outputs": [
    {
     "data": {
      "text/plain": [
       "dict_keys(['params', 'pops', 'receps', 'base', 'dpmns', 'd1', 'd2', 'channels', 'newpathways', 'Q_support_params', 'Q_df', 'n_trials', 'volatility', 'conflict', 'reward_mu', 'reward_std', 'actionchannels', 'volatile_pattern', 'cp_idx', 'cp_indicator', 'noisy_pattern', 't_epochs', 'trial_num', 'chosen_action', 'celldefaults', 'popspecific', 'receptordefaults', 'basestim', 'dpmndefaults', 'd1defaults', 'd2defaults', 'popdata', 'pathways', 'connectivity_AMPA', 'meaneff_AMPA', 'plastic_AMPA', 'connectivity_GABA', 'meaneff_GABA', 'plastic_GABA', 'connectivity_NMDA', 'meaneff_NMDA', 'plastic_NMDA', 'AMPA_con', 'AMPA_eff', 'GABA_con', 'GABA_eff', 'NMDA_con', 'NMDA_eff', 'agent', 'reward_val'])"
      ]
     },
     "execution_count": 10,
     "metadata": {},
     "output_type": "execute_result"
    }
   ],
   "source": [
    "results.keys()"
   ]
  },
  {
   "cell_type": "code",
   "execution_count": 11,
   "metadata": {},
   "outputs": [
    {
     "data": {
      "text/html": [
       "<div>\n",
       "<style scoped>\n",
       "    .dataframe tbody tr th:only-of-type {\n",
       "        vertical-align: middle;\n",
       "    }\n",
       "\n",
       "    .dataframe tbody tr th {\n",
       "        vertical-align: top;\n",
       "    }\n",
       "\n",
       "    .dataframe thead th {\n",
       "        text-align: right;\n",
       "    }\n",
       "</style>\n",
       "<table border=\"1\" class=\"dataframe\">\n",
       "  <thead>\n",
       "    <tr style=\"text-align: right;\">\n",
       "      <th></th>\n",
       "      <th>action</th>\n",
       "    </tr>\n",
       "  </thead>\n",
       "  <tbody>\n",
       "    <tr>\n",
       "      <th>0</th>\n",
       "      <td>left</td>\n",
       "    </tr>\n",
       "    <tr>\n",
       "      <th>1</th>\n",
       "      <td>right</td>\n",
       "    </tr>\n",
       "  </tbody>\n",
       "</table>\n",
       "</div>"
      ],
      "text/plain": [
       "  action\n",
       "0   left\n",
       "1  right"
      ]
     },
     "execution_count": 11,
     "metadata": {},
     "output_type": "execute_result"
    }
   ],
   "source": [
    "results['actionchannels']"
   ]
  },
  {
   "cell_type": "code",
   "execution_count": 12,
   "metadata": {},
   "outputs": [
    {
     "data": {
      "text/html": [
       "<div>\n",
       "<style scoped>\n",
       "    .dataframe tbody tr th:only-of-type {\n",
       "        vertical-align: middle;\n",
       "    }\n",
       "\n",
       "    .dataframe tbody tr th {\n",
       "        vertical-align: top;\n",
       "    }\n",
       "\n",
       "    .dataframe thead th {\n",
       "        text-align: right;\n",
       "    }\n",
       "</style>\n",
       "<table border=\"1\" class=\"dataframe\">\n",
       "  <thead>\n",
       "    <tr style=\"text-align: right;\">\n",
       "      <th></th>\n",
       "      <th>left</th>\n",
       "      <th>right</th>\n",
       "    </tr>\n",
       "  </thead>\n",
       "  <tbody>\n",
       "    <tr>\n",
       "      <th>0</th>\n",
       "      <td>0.500000</td>\n",
       "      <td>0.5</td>\n",
       "    </tr>\n",
       "    <tr>\n",
       "      <th>0</th>\n",
       "      <td>0.275000</td>\n",
       "      <td>0.5</td>\n",
       "    </tr>\n",
       "    <tr>\n",
       "      <th>0</th>\n",
       "      <td>0.621549</td>\n",
       "      <td>0.5</td>\n",
       "    </tr>\n",
       "    <tr>\n",
       "      <th>0</th>\n",
       "      <td>0.766822</td>\n",
       "      <td>0.5</td>\n",
       "    </tr>\n",
       "    <tr>\n",
       "      <th>0</th>\n",
       "      <td>0.907687</td>\n",
       "      <td>0.5</td>\n",
       "    </tr>\n",
       "    <tr>\n",
       "      <th>0</th>\n",
       "      <td>0.940994</td>\n",
       "      <td>0.5</td>\n",
       "    </tr>\n",
       "  </tbody>\n",
       "</table>\n",
       "</div>"
      ],
      "text/plain": [
       "       left  right\n",
       "0  0.500000    0.5\n",
       "0  0.275000    0.5\n",
       "0  0.621549    0.5\n",
       "0  0.766822    0.5\n",
       "0  0.907687    0.5\n",
       "0  0.940994    0.5"
      ]
     },
     "execution_count": 12,
     "metadata": {},
     "output_type": "execute_result"
    }
   ],
   "source": [
    "results['Q_df']"
   ]
  },
  {
   "cell_type": "code",
   "execution_count": 13,
   "metadata": {},
   "outputs": [
    {
     "data": {
      "text/html": [
       "<div>\n",
       "<style scoped>\n",
       "    .dataframe tbody tr th:only-of-type {\n",
       "        vertical-align: middle;\n",
       "    }\n",
       "\n",
       "    .dataframe tbody tr th {\n",
       "        vertical-align: top;\n",
       "    }\n",
       "\n",
       "    .dataframe thead th {\n",
       "        text-align: right;\n",
       "    }\n",
       "</style>\n",
       "<table border=\"1\" class=\"dataframe\">\n",
       "  <thead>\n",
       "    <tr style=\"text-align: right;\">\n",
       "      <th></th>\n",
       "      <th>left</th>\n",
       "      <th>right</th>\n",
       "    </tr>\n",
       "  </thead>\n",
       "  <tbody>\n",
       "    <tr>\n",
       "      <th>0</th>\n",
       "      <td>0.000000</td>\n",
       "      <td>0.978523</td>\n",
       "    </tr>\n",
       "    <tr>\n",
       "      <th>1</th>\n",
       "      <td>1.045108</td>\n",
       "      <td>0.000000</td>\n",
       "    </tr>\n",
       "    <tr>\n",
       "      <th>2</th>\n",
       "      <td>0.944379</td>\n",
       "      <td>0.000000</td>\n",
       "    </tr>\n",
       "    <tr>\n",
       "      <th>3</th>\n",
       "      <td>1.079855</td>\n",
       "      <td>0.000000</td>\n",
       "    </tr>\n",
       "    <tr>\n",
       "      <th>4</th>\n",
       "      <td>0.981702</td>\n",
       "      <td>0.000000</td>\n",
       "    </tr>\n",
       "  </tbody>\n",
       "</table>\n",
       "</div>"
      ],
      "text/plain": [
       "       left     right\n",
       "0  0.000000  0.978523\n",
       "1  1.045108  0.000000\n",
       "2  0.944379  0.000000\n",
       "3  1.079855  0.000000\n",
       "4  0.981702  0.000000"
      ]
     },
     "execution_count": 13,
     "metadata": {},
     "output_type": "execute_result"
    }
   ],
   "source": [
    "results['t_epochs']"
   ]
  },
  {
   "cell_type": "code",
   "execution_count": 14,
   "metadata": {},
   "outputs": [],
   "source": [
    "results['chosen_action']"
   ]
  },
  {
   "cell_type": "code",
   "execution_count": 18,
   "metadata": {},
   "outputs": [],
   "source": []
  },
  {
   "cell_type": "code",
   "execution_count": 20,
   "metadata": {},
   "outputs": [
    {
     "data": {
      "image/png": "[encoded data removed]",
      "text/plain": [
       "<Figure size 640x480 with 1 Axes>"
      ]
     },
     "metadata": {},
     "output_type": "display_data"
    }
   ],
   "source": [
    "plt.imshow(results['agent'].FRs)\n",
    "plt.show()"
   ]
  },
  {
   "cell_type": "code",
   "execution_count": 15,
   "metadata": {},
   "outputs": [
    {
     "data": {
      "text/html": [
       "<div>\n",
       "<style scoped>\n",
       "    .dataframe tbody tr th:only-of-type {\n",
       "        vertical-align: middle;\n",
       "    }\n",
       "\n",
       "    .dataframe tbody tr th {\n",
       "        vertical-align: top;\n",
       "    }\n",
       "\n",
       "    .dataframe thead th {\n",
       "        text-align: right;\n",
       "    }\n",
       "</style>\n",
       "<table border=\"1\" class=\"dataframe\">\n",
       "  <thead>\n",
       "    <tr style=\"text-align: right;\">\n",
       "      <th></th>\n",
       "      <th>name</th>\n",
       "      <th>action</th>\n",
       "      <th>N</th>\n",
       "      <th>C</th>\n",
       "      <th>Taum</th>\n",
       "      <th>RestPot</th>\n",
       "      <th>ResetPot</th>\n",
       "      <th>Threshold</th>\n",
       "      <th>RestPot_ca</th>\n",
       "      <th>Alpha_ca</th>\n",
       "      <th>...</th>\n",
       "      <th>dpmn_DAp</th>\n",
       "      <th>dpmn_APRE</th>\n",
       "      <th>dpmn_APOST</th>\n",
       "      <th>dpmn_XPRE</th>\n",
       "      <th>dpmn_XPOST</th>\n",
       "      <th>dpmn_type</th>\n",
       "      <th>dpmn_alphaw</th>\n",
       "      <th>dpmn_a</th>\n",
       "      <th>dpmn_b</th>\n",
       "      <th>dpmn_c</th>\n",
       "    </tr>\n",
       "  </thead>\n",
       "  <tbody>\n",
       "    <tr>\n",
       "      <th>0</th>\n",
       "      <td>GPi`</td>\n",
       "      <td>left`</td>\n",
       "      <td>75`</td>\n",
       "      <td>0.5`</td>\n",
       "      <td>20`</td>\n",
       "      <td>-70`</td>\n",
       "      <td>-55`</td>\n",
       "      <td>-50`</td>\n",
       "      <td>-85`</td>\n",
       "      <td>0.5`</td>\n",
       "      <td>...</td>\n",
       "      <td>nan`</td>\n",
       "      <td>nan`</td>\n",
       "      <td>nan`</td>\n",
       "      <td>nan`</td>\n",
       "      <td>nan`</td>\n",
       "      <td>nan`</td>\n",
       "      <td>nan`</td>\n",
       "      <td>nan`</td>\n",
       "      <td>nan`</td>\n",
       "      <td>nan`</td>\n",
       "    </tr>\n",
       "    <tr>\n",
       "      <th>1</th>\n",
       "      <td>GPi`</td>\n",
       "      <td>right`</td>\n",
       "      <td>75`</td>\n",
       "      <td>0.5`</td>\n",
       "      <td>20`</td>\n",
       "      <td>-70`</td>\n",
       "      <td>-55`</td>\n",
       "      <td>-50`</td>\n",
       "      <td>-85`</td>\n",
       "      <td>0.5`</td>\n",
       "      <td>...</td>\n",
       "      <td>nan`</td>\n",
       "      <td>nan`</td>\n",
       "      <td>nan`</td>\n",
       "      <td>nan`</td>\n",
       "      <td>nan`</td>\n",
       "      <td>nan`</td>\n",
       "      <td>nan`</td>\n",
       "      <td>nan`</td>\n",
       "      <td>nan`</td>\n",
       "      <td>nan`</td>\n",
       "    </tr>\n",
       "    <tr>\n",
       "      <th>2</th>\n",
       "      <td>STNE`</td>\n",
       "      <td>left`</td>\n",
       "      <td>750`</td>\n",
       "      <td>0.5`</td>\n",
       "      <td>20`</td>\n",
       "      <td>-70`</td>\n",
       "      <td>-55`</td>\n",
       "      <td>-50`</td>\n",
       "      <td>-85`</td>\n",
       "      <td>0.5`</td>\n",
       "      <td>...</td>\n",
       "      <td>nan`</td>\n",
       "      <td>nan`</td>\n",
       "      <td>nan`</td>\n",
       "      <td>nan`</td>\n",
       "      <td>nan`</td>\n",
       "      <td>nan`</td>\n",
       "      <td>nan`</td>\n",
       "      <td>nan`</td>\n",
       "      <td>nan`</td>\n",
       "      <td>nan`</td>\n",
       "    </tr>\n",
       "    <tr>\n",
       "      <th>3</th>\n",
       "      <td>STNE`</td>\n",
       "      <td>right`</td>\n",
       "      <td>750`</td>\n",
       "      <td>0.5`</td>\n",
       "      <td>20`</td>\n",
       "      <td>-70`</td>\n",
       "      <td>-55`</td>\n",
       "      <td>-50`</td>\n",
       "      <td>-85`</td>\n",
       "      <td>0.5`</td>\n",
       "      <td>...</td>\n",
       "      <td>nan`</td>\n",
       "      <td>nan`</td>\n",
       "      <td>nan`</td>\n",
       "      <td>nan`</td>\n",
       "      <td>nan`</td>\n",
       "      <td>nan`</td>\n",
       "      <td>nan`</td>\n",
       "      <td>nan`</td>\n",
       "      <td>nan`</td>\n",
       "      <td>nan`</td>\n",
       "    </tr>\n",
       "    <tr>\n",
       "      <th>4</th>\n",
       "      <td>GPeP`</td>\n",
       "      <td>left`</td>\n",
       "      <td>750`</td>\n",
       "      <td>0.5`</td>\n",
       "      <td>20`</td>\n",
       "      <td>-70`</td>\n",
       "      <td>-55`</td>\n",
       "      <td>-50`</td>\n",
       "      <td>-85`</td>\n",
       "      <td>0.5`</td>\n",
       "      <td>...</td>\n",
       "      <td>nan`</td>\n",
       "      <td>nan`</td>\n",
       "      <td>nan`</td>\n",
       "      <td>nan`</td>\n",
       "      <td>nan`</td>\n",
       "      <td>nan`</td>\n",
       "      <td>nan`</td>\n",
       "      <td>nan`</td>\n",
       "      <td>nan`</td>\n",
       "      <td>nan`</td>\n",
       "    </tr>\n",
       "    <tr>\n",
       "      <th>5</th>\n",
       "      <td>GPeP`</td>\n",
       "      <td>right`</td>\n",
       "      <td>750`</td>\n",
       "      <td>0.5`</td>\n",
       "      <td>20`</td>\n",
       "      <td>-70`</td>\n",
       "      <td>-55`</td>\n",
       "      <td>-50`</td>\n",
       "      <td>-85`</td>\n",
       "      <td>0.5`</td>\n",
       "      <td>...</td>\n",
       "      <td>nan`</td>\n",
       "      <td>nan`</td>\n",
       "      <td>nan`</td>\n",
       "      <td>nan`</td>\n",
       "      <td>nan`</td>\n",
       "      <td>nan`</td>\n",
       "      <td>nan`</td>\n",
       "      <td>nan`</td>\n",
       "      <td>nan`</td>\n",
       "      <td>nan`</td>\n",
       "    </tr>\n",
       "    <tr>\n",
       "      <th>6</th>\n",
       "      <td>D1STR`</td>\n",
       "      <td>left`</td>\n",
       "      <td>75`</td>\n",
       "      <td>0.5`</td>\n",
       "      <td>20`</td>\n",
       "      <td>-70`</td>\n",
       "      <td>-55`</td>\n",
       "      <td>-50`</td>\n",
       "      <td>-85`</td>\n",
       "      <td>0.5`</td>\n",
       "      <td>...</td>\n",
       "      <td>0.0`</td>\n",
       "      <td>0.0`</td>\n",
       "      <td>0.0`</td>\n",
       "      <td>0.0`</td>\n",
       "      <td>0.0`</td>\n",
       "      <td>1`</td>\n",
       "      <td>18.333333333333332`</td>\n",
       "      <td>1.0`</td>\n",
       "      <td>0.1`</td>\n",
       "      <td>0.05`</td>\n",
       "    </tr>\n",
       "    <tr>\n",
       "      <th>7</th>\n",
       "      <td>D1STR`</td>\n",
       "      <td>right`</td>\n",
       "      <td>75`</td>\n",
       "      <td>0.5`</td>\n",
       "      <td>20`</td>\n",
       "      <td>-70`</td>\n",
       "      <td>-55`</td>\n",
       "      <td>-50`</td>\n",
       "      <td>-85`</td>\n",
       "      <td>0.5`</td>\n",
       "      <td>...</td>\n",
       "      <td>0.0`</td>\n",
       "      <td>0.0`</td>\n",
       "      <td>0.0`</td>\n",
       "      <td>0.0`</td>\n",
       "      <td>0.0`</td>\n",
       "      <td>1`</td>\n",
       "      <td>18.333333333333332`</td>\n",
       "      <td>1.0`</td>\n",
       "      <td>0.1`</td>\n",
       "      <td>0.05`</td>\n",
       "    </tr>\n",
       "    <tr>\n",
       "      <th>8</th>\n",
       "      <td>D2STR`</td>\n",
       "      <td>left`</td>\n",
       "      <td>75`</td>\n",
       "      <td>0.5`</td>\n",
       "      <td>20`</td>\n",
       "      <td>-70`</td>\n",
       "      <td>-55`</td>\n",
       "      <td>-50`</td>\n",
       "      <td>-85`</td>\n",
       "      <td>0.5`</td>\n",
       "      <td>...</td>\n",
       "      <td>0.0`</td>\n",
       "      <td>0.0`</td>\n",
       "      <td>0.0`</td>\n",
       "      <td>0.0`</td>\n",
       "      <td>0.0`</td>\n",
       "      <td>2`</td>\n",
       "      <td>-15.0`</td>\n",
       "      <td>0.5`</td>\n",
       "      <td>0.005`</td>\n",
       "      <td>0.05`</td>\n",
       "    </tr>\n",
       "    <tr>\n",
       "      <th>9</th>\n",
       "      <td>D2STR`</td>\n",
       "      <td>right`</td>\n",
       "      <td>75`</td>\n",
       "      <td>0.5`</td>\n",
       "      <td>20`</td>\n",
       "      <td>-70`</td>\n",
       "      <td>-55`</td>\n",
       "      <td>-50`</td>\n",
       "      <td>-85`</td>\n",
       "      <td>0.5`</td>\n",
       "      <td>...</td>\n",
       "      <td>0.0`</td>\n",
       "      <td>0.0`</td>\n",
       "      <td>0.0`</td>\n",
       "      <td>0.0`</td>\n",
       "      <td>0.0`</td>\n",
       "      <td>2`</td>\n",
       "      <td>-15.0`</td>\n",
       "      <td>0.5`</td>\n",
       "      <td>0.005`</td>\n",
       "      <td>0.05`</td>\n",
       "    </tr>\n",
       "    <tr>\n",
       "      <th>10</th>\n",
       "      <td>LIP`</td>\n",
       "      <td>left`</td>\n",
       "      <td>204`</td>\n",
       "      <td>0.5`</td>\n",
       "      <td>20`</td>\n",
       "      <td>-70`</td>\n",
       "      <td>-55`</td>\n",
       "      <td>-50`</td>\n",
       "      <td>-85`</td>\n",
       "      <td>0.5`</td>\n",
       "      <td>...</td>\n",
       "      <td>nan`</td>\n",
       "      <td>nan`</td>\n",
       "      <td>nan`</td>\n",
       "      <td>nan`</td>\n",
       "      <td>nan`</td>\n",
       "      <td>nan`</td>\n",
       "      <td>nan`</td>\n",
       "      <td>nan`</td>\n",
       "      <td>nan`</td>\n",
       "      <td>nan`</td>\n",
       "    </tr>\n",
       "    <tr>\n",
       "      <th>11</th>\n",
       "      <td>LIP`</td>\n",
       "      <td>right`</td>\n",
       "      <td>204`</td>\n",
       "      <td>0.5`</td>\n",
       "      <td>20`</td>\n",
       "      <td>-70`</td>\n",
       "      <td>-55`</td>\n",
       "      <td>-50`</td>\n",
       "      <td>-85`</td>\n",
       "      <td>0.5`</td>\n",
       "      <td>...</td>\n",
       "      <td>nan`</td>\n",
       "      <td>nan`</td>\n",
       "      <td>nan`</td>\n",
       "      <td>nan`</td>\n",
       "      <td>nan`</td>\n",
       "      <td>nan`</td>\n",
       "      <td>nan`</td>\n",
       "      <td>nan`</td>\n",
       "      <td>nan`</td>\n",
       "      <td>nan`</td>\n",
       "    </tr>\n",
       "    <tr>\n",
       "      <th>12</th>\n",
       "      <td>Th`</td>\n",
       "      <td>left`</td>\n",
       "      <td>75`</td>\n",
       "      <td>0.5`</td>\n",
       "      <td>27.78`</td>\n",
       "      <td>-70`</td>\n",
       "      <td>-55`</td>\n",
       "      <td>-50`</td>\n",
       "      <td>-85`</td>\n",
       "      <td>0.5`</td>\n",
       "      <td>...</td>\n",
       "      <td>nan`</td>\n",
       "      <td>nan`</td>\n",
       "      <td>nan`</td>\n",
       "      <td>nan`</td>\n",
       "      <td>nan`</td>\n",
       "      <td>nan`</td>\n",
       "      <td>nan`</td>\n",
       "      <td>nan`</td>\n",
       "      <td>nan`</td>\n",
       "      <td>nan`</td>\n",
       "    </tr>\n",
       "    <tr>\n",
       "      <th>13</th>\n",
       "      <td>Th`</td>\n",
       "      <td>right`</td>\n",
       "      <td>75`</td>\n",
       "      <td>0.5`</td>\n",
       "      <td>27.78`</td>\n",
       "      <td>-70`</td>\n",
       "      <td>-55`</td>\n",
       "      <td>-50`</td>\n",
       "      <td>-85`</td>\n",
       "      <td>0.5`</td>\n",
       "      <td>...</td>\n",
       "      <td>nan`</td>\n",
       "      <td>nan`</td>\n",
       "      <td>nan`</td>\n",
       "      <td>nan`</td>\n",
       "      <td>nan`</td>\n",
       "      <td>nan`</td>\n",
       "      <td>nan`</td>\n",
       "      <td>nan`</td>\n",
       "      <td>nan`</td>\n",
       "      <td>nan`</td>\n",
       "    </tr>\n",
       "    <tr>\n",
       "      <th>14</th>\n",
       "      <td>FSI`</td>\n",
       "      <td>nan`</td>\n",
       "      <td>75`</td>\n",
       "      <td>0.2`</td>\n",
       "      <td>10`</td>\n",
       "      <td>-70`</td>\n",
       "      <td>-55`</td>\n",
       "      <td>-50`</td>\n",
       "      <td>-85`</td>\n",
       "      <td>0.5`</td>\n",
       "      <td>...</td>\n",
       "      <td>nan`</td>\n",
       "      <td>nan`</td>\n",
       "      <td>nan`</td>\n",
       "      <td>nan`</td>\n",
       "      <td>nan`</td>\n",
       "      <td>nan`</td>\n",
       "      <td>nan`</td>\n",
       "      <td>nan`</td>\n",
       "      <td>nan`</td>\n",
       "      <td>nan`</td>\n",
       "    </tr>\n",
       "    <tr>\n",
       "      <th>15</th>\n",
       "      <td>LIPI`</td>\n",
       "      <td>nan`</td>\n",
       "      <td>186`</td>\n",
       "      <td>0.2`</td>\n",
       "      <td>10`</td>\n",
       "      <td>-70`</td>\n",
       "      <td>-55`</td>\n",
       "      <td>-50`</td>\n",
       "      <td>-85`</td>\n",
       "      <td>0.5`</td>\n",
       "      <td>...</td>\n",
       "      <td>nan`</td>\n",
       "      <td>nan`</td>\n",
       "      <td>nan`</td>\n",
       "      <td>nan`</td>\n",
       "      <td>nan`</td>\n",
       "      <td>nan`</td>\n",
       "      <td>nan`</td>\n",
       "      <td>nan`</td>\n",
       "      <td>nan`</td>\n",
       "      <td>nan`</td>\n",
       "    </tr>\n",
       "  </tbody>\n",
       "</table>\n",
       "<p>16 rows × 64 columns</p>\n",
       "</div>"
      ],
      "text/plain": [
       "      name  action     N     C    Taum RestPot ResetPot Threshold RestPot_ca  \\\n",
       "0     GPi`   left`   75`  0.5`     20`    -70`     -55`      -50`       -85`   \n",
       "1     GPi`  right`   75`  0.5`     20`    -70`     -55`      -50`       -85`   \n",
       "2    STNE`   left`  750`  0.5`     20`    -70`     -55`      -50`       -85`   \n",
       "3    STNE`  right`  750`  0.5`     20`    -70`     -55`      -50`       -85`   \n",
       "4    GPeP`   left`  750`  0.5`     20`    -70`     -55`      -50`       -85`   \n",
       "5    GPeP`  right`  750`  0.5`     20`    -70`     -55`      -50`       -85`   \n",
       "6   D1STR`   left`   75`  0.5`     20`    -70`     -55`      -50`       -85`   \n",
       "7   D1STR`  right`   75`  0.5`     20`    -70`     -55`      -50`       -85`   \n",
       "8   D2STR`   left`   75`  0.5`     20`    -70`     -55`      -50`       -85`   \n",
       "9   D2STR`  right`   75`  0.5`     20`    -70`     -55`      -50`       -85`   \n",
       "10    LIP`   left`  204`  0.5`     20`    -70`     -55`      -50`       -85`   \n",
       "11    LIP`  right`  204`  0.5`     20`    -70`     -55`      -50`       -85`   \n",
       "12     Th`   left`   75`  0.5`  27.78`    -70`     -55`      -50`       -85`   \n",
       "13     Th`  right`   75`  0.5`  27.78`    -70`     -55`      -50`       -85`   \n",
       "14    FSI`    nan`   75`  0.2`     10`    -70`     -55`      -50`       -85`   \n",
       "15   LIPI`    nan`  186`  0.2`     10`    -70`     -55`      -50`       -85`   \n",
       "\n",
       "   Alpha_ca  ... dpmn_DAp dpmn_APRE dpmn_APOST dpmn_XPRE dpmn_XPOST dpmn_type  \\\n",
       "0      0.5`  ...     nan`      nan`       nan`      nan`       nan`      nan`   \n",
       "1      0.5`  ...     nan`      nan`       nan`      nan`       nan`      nan`   \n",
       "2      0.5`  ...     nan`      nan`       nan`      nan`       nan`      nan`   \n",
       "3      0.5`  ...     nan`      nan`       nan`      nan`       nan`      nan`   \n",
       "4      0.5`  ...     nan`      nan`       nan`      nan`       nan`      nan`   \n",
       "5      0.5`  ...     nan`      nan`       nan`      nan`       nan`      nan`   \n",
       "6      0.5`  ...     0.0`      0.0`       0.0`      0.0`       0.0`        1`   \n",
       "7      0.5`  ...     0.0`      0.0`       0.0`      0.0`       0.0`        1`   \n",
       "8      0.5`  ...     0.0`      0.0`       0.0`      0.0`       0.0`        2`   \n",
       "9      0.5`  ...     0.0`      0.0`       0.0`      0.0`       0.0`        2`   \n",
       "10     0.5`  ...     nan`      nan`       nan`      nan`       nan`      nan`   \n",
       "11     0.5`  ...     nan`      nan`       nan`      nan`       nan`      nan`   \n",
       "12     0.5`  ...     nan`      nan`       nan`      nan`       nan`      nan`   \n",
       "13     0.5`  ...     nan`      nan`       nan`      nan`       nan`      nan`   \n",
       "14     0.5`  ...     nan`      nan`       nan`      nan`       nan`      nan`   \n",
       "15     0.5`  ...     nan`      nan`       nan`      nan`       nan`      nan`   \n",
       "\n",
       "            dpmn_alphaw dpmn_a  dpmn_b dpmn_c  \n",
       "0                  nan`   nan`    nan`   nan`  \n",
       "1                  nan`   nan`    nan`   nan`  \n",
       "2                  nan`   nan`    nan`   nan`  \n",
       "3                  nan`   nan`    nan`   nan`  \n",
       "4                  nan`   nan`    nan`   nan`  \n",
       "5                  nan`   nan`    nan`   nan`  \n",
       "6   18.333333333333332`   1.0`    0.1`  0.05`  \n",
       "7   18.333333333333332`   1.0`    0.1`  0.05`  \n",
       "8                -15.0`   0.5`  0.005`  0.05`  \n",
       "9                -15.0`   0.5`  0.005`  0.05`  \n",
       "10                 nan`   nan`    nan`   nan`  \n",
       "11                 nan`   nan`    nan`   nan`  \n",
       "12                 nan`   nan`    nan`   nan`  \n",
       "13                 nan`   nan`    nan`   nan`  \n",
       "14                 nan`   nan`    nan`   nan`  \n",
       "15                 nan`   nan`    nan`   nan`  \n",
       "\n",
       "[16 rows x 64 columns]"
      ]
     },
     "execution_count": 15,
     "metadata": {},
     "output_type": "execute_result"
    }
   ],
   "source": [
    "results['popdata']"
   ]
  },
  {
   "cell_type": "code",
   "execution_count": 18,
   "metadata": {},
   "outputs": [
    {
     "data": {
      "image/png": "[encoded data removed]",
      "text/plain": [
       "<Figure size 640x480 with 1 Axes>"
      ]
     },
     "metadata": {},
     "output_type": "display_data"
    }
   ],
   "source": [
    "plt.plot(results['agent'].FRs[:,10])\n",
    "plt.plot(results['agent'].FRs[:,11])\n",
    "plt.show()"
   ]
  },
  {
   "cell_type": "code",
   "execution_count": 30,
   "metadata": {},
   "outputs": [
    {
     "data": {
      "text/plain": [
       "array([[0., 0., 0., 0., 0., 0., 0., 0., 0., 0., 0., 0., 0., 0., 0., 0.],\n",
       "       [0., 0., 0., 0., 0., 0., 0., 0., 0., 0., 0., 0., 0., 0., 0., 0.]])"
      ]
     },
     "execution_count": 30,
     "metadata": {},
     "output_type": "execute_result"
    }
   ],
   "source": [
    "testb = np.concatenate(([results['agent'].FRs],[results['agent'].FRs]))\n",
    "testb"
   ]
  },
  {
   "cell_type": "code",
   "execution_count": 32,
   "metadata": {},
   "outputs": [
    {
     "data": {
      "text/plain": [
       "array([[0., 0., 0., 0., 0., 0., 0., 0., 0., 0., 0., 0., 0., 0., 0., 0.],\n",
       "       [0., 0., 0., 0., 0., 0., 0., 0., 0., 0., 0., 0., 0., 0., 0., 0.],\n",
       "       [0., 0., 0., 0., 0., 0., 0., 0., 0., 0., 0., 0., 0., 0., 0., 0.]])"
      ]
     },
     "execution_count": 32,
     "metadata": {},
     "output_type": "execute_result"
    }
   ],
   "source": [
    "np.concatenate((testb,[results['agent'].FRs]))"
   ]
  },
  {
   "cell_type": "markdown",
   "metadata": {},
   "source": [
    "### 2. Modifying default values "
   ]
  },
  {
   "cell_type": "markdown",
   "metadata": {},
   "source": [
    "### 2.1 Modifying values "
   ]
  },
  {
   "cell_type": "code",
   "execution_count": null,
   "metadata": {},
   "outputs": [],
   "source": [
    "environment = {\n",
    "    'params': pd.DataFrame([[8, 30]], columns=['N', 'C']),\n",
    "    'pops' : {'FSI': {'Taum': [60]}}, \n",
    "    'receps' : pd.DataFrame([[100, 100]], columns=['Tau_AMPA', 'Tau_GABA']), \n",
    "    'base' : {'FSI': {'FreqExt_AMPA': [100]}}, \n",
    "    'dpmns' : pd.DataFrame([[400, 100]], columns=['dpmn_wmax', 'dpmn_tauDOP']),\n",
    "    'd1' : pd.DataFrame([[3, 50]], columns=['dpmn_type', 'dpmn_c']),\n",
    "    'd2' : pd.DataFrame([[3, 50]], columns=['dpmn_type', 'dpmn_c']),\n",
    "    'channels' : pd.DataFrame([[\"left\"],[\"right\"]], columns=['action']), #action channels related parameters (init_params.py)\n",
    "    #'actionchannels' : pd.DataFrame([[1],[2]], columns=['action']), \n",
    "    'newpathways' : pd.DataFrame([['LIP', 'D1STR', 'AMPA', 'syn', 700, 0.027]], columns=['src', 'dest', 'receptor', 'type', 'con', 'eff']), \n",
    "    'Q_support_params': None,\n",
    "    'Q_df':None,\n",
    "    'n_trials': 5,\n",
    "    'volatility': 2,\n",
    "    'conflict': 0.7,\n",
    "    'reward_mu': 1,\n",
    "    'reward_std': 0.1,\n",
    "}\n",
    "results = cbgt.ExecutionManager(cores=7).run(pl,environment) "
   ]
  },
  {
   "cell_type": "code",
   "execution_count": null,
   "metadata": {},
   "outputs": [],
   "source": [
    "results['popdata']"
   ]
  },
  {
   "cell_type": "code",
   "execution_count": null,
   "metadata": {},
   "outputs": [],
   "source": [
    "results['Q_df']"
   ]
  },
  {
   "cell_type": "markdown",
   "metadata": {},
   "source": [
    "### 2.2 Modifying a subset of values"
   ]
  },
  {
   "cell_type": "code",
   "execution_count": null,
   "metadata": {},
   "outputs": [],
   "source": [
    "environment = {\n",
    "    'params': pd.DataFrame([[4, 1]], columns=['N', 'C']), \n",
    "    'pops': None,\n",
    "    'receps' : None, \n",
    "    'base' : None,\n",
    "    'dpmns' : None,\n",
    "    'd1' : None,\n",
    "    'd2' : None,\n",
    "    'channels' : pd.DataFrame([[\"left\"],[\"right\"]], columns=['action']), #action channels related parameters (init_params.py)\n",
    "    #'actionchannels' : pd.DataFrame([[1],[2]], columns=['action']), \n",
    "    'newpathways' : None, \n",
    "    'Q_support_params': None,\n",
    "    'Q_df':None,\n",
    "    'n_trials': 5,\n",
    "    'volatility': 2,\n",
    "    'conflict': 0.7,\n",
    "    'reward_mu': 1,\n",
    "    'reward_std': 0.1,\n",
    "}\n",
    "\n",
    "results = cbgt.ExecutionManager(cores=7).run(pl,environment) "
   ]
  },
  {
   "cell_type": "code",
   "execution_count": null,
   "metadata": {},
   "outputs": [],
   "source": [
    "results['popdata']"
   ]
  },
  {
   "cell_type": "code",
   "execution_count": null,
   "metadata": {},
   "outputs": [],
   "source": [
    "results['Q_df']"
   ]
  },
  {
   "cell_type": "code",
   "execution_count": null,
   "metadata": {},
   "outputs": [],
   "source": []
  },
  {
   "cell_type": "markdown",
   "metadata": {},
   "source": [
    "### 3. Back to default values "
   ]
  },
  {
   "cell_type": "code",
   "execution_count": null,
   "metadata": {},
   "outputs": [],
   "source": [
    "#See init_params.py / generateepochs.py / popconstruct.py / qvalues.py\n",
    "#to know the parameters contained in each of the following variables \n",
    "environment = {\n",
    "    'params': None, #neuron parameters (init_params.py)\n",
    "    'pops': None,   #population parameters (init_params.py)\n",
    "    'receps' : None, #receptor parameters (init_params.py)\n",
    "    'base' : None, #baseline stimulation parameters (init_params.py)\n",
    "    'dpmns' : None, #dopamine related parameters (init_params.py)\n",
    "    'd1' : None, #D1-MSNs population related parameters (init_params.py)\n",
    "    'd2' : None, #D2-MSNs population related parameters (init_params.py)\n",
    "    'channels' : pd.DataFrame([[\"left\"],[\"right\"]], columns=['action']), #action channels related parameters (init_params.py)\n",
    "    #'actionchannels' : pd.DataFrame([[1],[2]], columns=['action']), #labels for the actions (init_params.py)\n",
    "    'newpathways' : None, #connectivity parameters (popconstruct.py)\n",
    "    'Q_support_params': None, #initialization of Q-values update (qvalues.py) \n",
    "    'Q_df':None, #initialized Q-values df (qvalues.py)  \n",
    "    'n_trials': 5, #number of trials (generateepochs.py)\n",
    "    'volatility': 2, #frequency of changepoints (generateepochs.py)\n",
    "    'conflict': 0.7, #probability of the preferred choice (generateepochs.py)\n",
    "    'reward_mu': 1, #mean for the magnitude of the reward (generateepochs.py)\n",
    "    'reward_std': 0.1, #std for the magnitude of the reward (generateepochs.py)\n",
    "}\n",
    "results = cbgt.ExecutionManager(cores=7).run(pl,environment) "
   ]
  },
  {
   "cell_type": "code",
   "execution_count": null,
   "metadata": {},
   "outputs": [],
   "source": [
    "results['popdata']"
   ]
  },
  {
   "cell_type": "code",
   "execution_count": null,
   "metadata": {},
   "outputs": [],
   "source": [
    "results['Q_df']"
   ]
  },
  {
   "cell_type": "code",
   "execution_count": null,
   "metadata": {},
   "outputs": [],
   "source": []
  },
  {
   "cell_type": "code",
   "execution_count": null,
   "metadata": {},
   "outputs": [],
   "source": []
  },
  {
   "cell_type": "code",
   "execution_count": null,
   "metadata": {},
   "outputs": [],
   "source": [
    "#?"
   ]
  },
  {
   "cell_type": "code",
   "execution_count": null,
   "metadata": {},
   "outputs": [],
   "source": [
    "dev = cbgt.Pipeline()"
   ]
  },
  {
   "cell_type": "code",
   "execution_count": null,
   "metadata": {},
   "outputs": [],
   "source": [
    "dev.add(codeblock_agent_phase0)"
   ]
  },
  {
   "cell_type": "code",
   "execution_count": null,
   "metadata": {},
   "outputs": [],
   "source": [
    "output = cbgt.ExecutionManager(cores=7).run(dev,results) "
   ]
  },
  {
   "cell_type": "code",
   "execution_count": null,
   "metadata": {},
   "outputs": [],
   "source": []
  }
 ],
 "metadata": {
  "kernelspec": {
   "display_name": "Python 3",
   "language": "python",
   "name": "python3"
  },
  "language_info": {
   "codemirror_mode": {
    "name": "ipython",
    "version": 3
   },
   "file_extension": ".py",
   "mimetype": "text/x-python",
   "name": "python",
   "nbconvert_exporter": "python",
   "pygments_lexer": "ipython3",
   "version": "3.8.11"
  }
 },
 "nbformat": 4,
 "nbformat_minor": 4
}
